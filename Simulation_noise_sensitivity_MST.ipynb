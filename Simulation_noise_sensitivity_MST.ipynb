{
 "cells": [
  {
   "cell_type": "markdown",
   "metadata": {},
   "source": [
    "[Mahefa, December 12, 2019]\n",
    "# Noise sensitivity in the minimal spanning tree.\n",
    "\n",
    "Let $G$ be a graph. Assign each edge $e$ of $G$ a label $U_e\\in \\mathbb{R}.$ \n",
    "\n",
    "* __Definition__: A minimal spanning tree (MST) of $G$ with respect to the edge label $(U_e)_{e\\in E(G)}$ is a spanning tree $T$ whose total weight $\\sum_{e\\in  E(T)}U_e$ is minimal among all spanning trees of $G.$\n",
    "\n",
    "The weight and the graph diameter of a minimal spanning tree of $G$ are denoted respectively by $W(\\{U_e\\})$ and $\\mathrm{diam}(U_e)$."
   ]
  },
  {
   "cell_type": "markdown",
   "metadata": {},
   "source": [
    "The function ```tree.minimum_spanning_edges``` (imported from networkx.algorithms) outputs the edges  a MST of an undirected weighted connected graph. Let us first see how this function works and illustrate the definition of MST in the following simple example."
   ]
  },
  {
   "cell_type": "code",
   "execution_count": 13,
   "metadata": {},
   "outputs": [],
   "source": [
    "# usefull package\n",
    "import networkx as nx\n",
    "from networkx.algorithms import tree\n",
    "import numpy as np\n",
    "import matplotlib.pyplot as plt\n",
    "import pandas as pd"
   ]
  },
  {
   "cell_type": "code",
   "execution_count": 2,
   "metadata": {},
   "outputs": [],
   "source": [
    "G = nx.Graph()\n",
    "G.add_weighted_edges_from([(1,2, 0.5), (1,3,0.2), (2,3, 0.9), (1,5,0.1), (3,5,0.6)]) # add edge with weight (node1, node 2, weight)"
   ]
  },
  {
   "cell_type": "code",
   "execution_count": 3,
   "metadata": {},
   "outputs": [],
   "source": [
    "edge_MST = list(tree.minimum_spanning_edges(G, algorithm='kruskal', weight='weight')) # list of edges of the minimal spanning tree with relevant informations"
   ]
  },
  {
   "cell_type": "markdown",
   "metadata": {},
   "source": [
    "This 'edge_MST' is a list of 3-tuples (node1, node 2, weight) where (node 1, node 2) is an edge of G and weight is a one element dictionary keyed by \"weight\".\n",
    "The following code shows how it looks like."
   ]
  },
  {
   "cell_type": "code",
   "execution_count": 4,
   "metadata": {},
   "outputs": [
    {
     "data": {
      "text/plain": [
       "[(1, 5, {'weight': 0.1}), (1, 3, {'weight': 0.2}), (1, 2, {'weight': 0.5})]"
      ]
     },
     "execution_count": 4,
     "metadata": {},
     "output_type": "execute_result"
    }
   ],
   "source": [
    "edge_MST "
   ]
  },
  {
   "cell_type": "code",
   "execution_count": 5,
   "metadata": {},
   "outputs": [],
   "source": [
    "pos = nx.drawing.nx_pydot.graphviz_layout(G) # compute the position of each nodes\n",
    "labels = nx.get_edge_attributes(G,'weight') # label each edge of G with their weight"
   ]
  },
  {
   "cell_type": "code",
   "execution_count": 6,
   "metadata": {},
   "outputs": [],
   "source": [
    "# create a minimal uniform spanning tree of G\n",
    "T = nx.Graph()\n",
    "T.add_weighted_edges_from([(edge_MST[i][0], edge_MST[i][1], edge_MST[i][2]['weight']) for i in range(len(edge_MST))])"
   ]
  },
  {
   "cell_type": "code",
   "execution_count": 7,
   "metadata": {},
   "outputs": [
    {
     "name": "stderr",
     "output_type": "stream",
     "text": [
      "/home/mahefa/anaconda3/lib/python3.7/site-packages/networkx/drawing/nx_pylab.py:579: MatplotlibDeprecationWarning: \n",
      "The iterable function was deprecated in Matplotlib 3.1 and will be removed in 3.3. Use np.iterable instead.\n",
      "  if not cb.iterable(width):\n"
     ]
    },
    {
     "data": {
      "image/png": "[encoded data removed]",
      "text/plain": [
       "<Figure size 432x288 with 1 Axes>"
      ]
     },
     "metadata": {},
     "output_type": "display_data"
    }
   ],
   "source": [
    "nx.draw(G,pos, width = 0.4)\n",
    "nx.draw(T,pos, edge_color = 'red')\n",
    "v = nx.draw_networkx_edge_labels(G,pos,edge_labels=labels) # draw the graph G and indicate the weight of each graph\n",
    "v = nx.draw_networkx_edge_labels(T,pos,edge_labels=labels) # highlight an MST of G in red \n",
    "plt.show()"
   ]
  },
  {
   "cell_type": "markdown",
   "metadata": {},
   "source": [
    "## In this simulation, we will look at the complete graph $G = K_n$ of size $n$ and we assume that $(U_e)_{e\\in E(G)}$ are iid real-valued random variables. Given the probability distribution of $U_e$, we are interested in the total weight and the diameter of a MST of G."
   ]
  },
  {
   "cell_type": "markdown",
   "metadata": {},
   "source": [
    "# __(a) Case  $U_e\\sim \\mathrm{Unif}[0,1].$__"
   ]
  },
  {
   "cell_type": "markdown",
   "metadata": {},
   "source": [
    "The following function inputs a positive integr $n$ and outputs both the total edge_weight and the diameter of a Minimal Spanning Tree of $G=K_n$ in the following way:\n",
    "\n",
    "1. Create two empty graphs G and T,\n",
    "2. assign each edge $e$ of $G$ a weight  $U_e\\sim \\mathrm{unif}[0,1]$,\n",
    "3. take the edges of a MST of $K_n$ using the function ```tree.minimum_spanning_edge```, and save them in the list called  __edge_list__ , \n",
    "4. add the edges found in 3- to the tree T,\n",
    "5. compute and output the total edge_weight and the diameter of T."
   ]
  },
  {
   "cell_type": "code",
   "execution_count": 15,
   "metadata": {},
   "outputs": [],
   "source": [
    "def MST(n):\n",
    "    G = nx.Graph()\n",
    "    T = nx.Graph()\n",
    "    edges = list(nx.complete_graph(n).edges()) # these are all possible edges\n",
    "    for e in edges:\n",
    "        U = np.random.uniform(0,1) # generate the random weight\n",
    "        G.add_edge(e[0],e[1], weight = U) # add weighted edge\n",
    "    edge_MST = list(tree.minimum_spanning_edges(G, algorithm='kruskal', weight='weight')) ## list the edge of a MST\n",
    "    T.add_weighted_edges_from([(edge_MST[i][0], edge_MST[i][1], edge_MST[i][2]['weight']) for i in range(len(edge_MST))]) # add the listed edge to the graph T\n",
    "    return (sum([edge_MST[i][2]['weight'] for i in range(len(edge_MST))]), nx.diameter(T))"
   ]
  },
  {
   "cell_type": "code",
   "execution_count": 9,
   "metadata": {},
   "outputs": [
    {
     "data": {
      "text/plain": [
       "(0.9237538129588143, 4)"
      ]
     },
     "execution_count": 9,
     "metadata": {},
     "output_type": "execute_result"
    }
   ],
   "source": [
    "MST(5)"
   ]
  },
  {
   "cell_type": "markdown",
   "metadata": {},
   "source": [
    "#### __Distribution, mean and standard deviation of the weight $W(\\{U_e\\})$ of a MST of G.__\n",
    "\n",
    "We are going to prove the following claim:\n",
    "\n",
    "__Claim:__ \n",
    " 1. $\\mathbb{E}W(\\{U_e\\})$ is uniformly bounded, i.e $W(\\{U_e\\})\\leq c$ for all $n\\in \\mathbb{N}$, where $c$ is a constante.\n",
    " 2. Var($W(\\{U_e\\})$) is an decreasing function of $n$."
   ]
  },
  {
   "cell_type": "markdown",
   "metadata": {},
   "source": [
    "We are going to create four lists of 200 independent trials of $W(\\{U_e\\})$ that corresponds respectively to $n=10$, $n=30$ $n=50$ and $n=100$, and we will plot the histogram of each of them in the same figure."
   ]
  },
  {
   "cell_type": "code",
   "execution_count": 10,
   "metadata": {},
   "outputs": [],
   "source": [
    "#Distribution of the weight for n= 10, 50 and 100\n",
    "weight_MST_10 = np.array([MST(10)[0] for i in range(200)]) # sample 100 weight for n = 10\n",
    "weight_MST_30 = np.array([MST(30)[0] for i in range(200)]) # sample 100 weight for n = 30 \n",
    "weight_MST_50 = np.array([MST(50)[0] for i in range(200)]) # sample 100 weight for n = 50 \n",
    "weight_MST_100 = np.array([MST(100)[0] for i in range(200)]) # sample 100 weight for n = 100"
   ]
  },
  {
   "cell_type": "code",
   "execution_count": 16,
   "metadata": {},
   "outputs": [
    {
     "data": {
      "image/png": "[encoded data removed]",
      "text/plain": [
       "<Figure size 432x288 with 1 Axes>"
      ]
     },
     "metadata": {
      "needs_background": "light"
     },
     "output_type": "display_data"
    }
   ],
   "source": [
    "#Histogramm\n",
    "plt.hist(weight_MST_10, bins =20, label = 'n=10') # distribution for the case n = 10\n",
    "plt.hist(weight_MST_30, bins = 20, label = 'n=30')# distribution for the case n = 30\n",
    "plt.hist(weight_MST_50, bins = 20, label = 'n=50')# distribution for the case n = 50\n",
    "plt.hist(weight_MST_100, bins = 20, label = 'n=100')# distribution for the case n = 100\n",
    "plt.title('Histograms')\n",
    "plt.legend()\n",
    "plt.show()"
   ]
  },
  {
   "cell_type": "markdown",
   "metadata": {},
   "source": [
    "As we can see in the last plot above, the histogram becomes more concentrated when $n$ increases, this shows that the standard deviation becomes smaller and smaller. "
   ]
  },
  {
   "cell_type": "markdown",
   "metadata": {},
   "source": [
    "For more visualization, let us plot the corresponding estimated probability distribution with the function ``` pd.Series().plot.kde ``` in the same figure."
   ]
  },
  {
   "cell_type": "code",
   "execution_count": 14,
   "metadata": {},
   "outputs": [
    {
     "data": {
      "image/png": "[encoded data removed]",
      "text/plain": [
       "<Figure size 432x288 with 1 Axes>"
      ]
     },
     "metadata": {
      "needs_background": "light"
     },
     "output_type": "display_data"
    }
   ],
   "source": [
    "pd.Series(weight_MST_10).plot.kde( label = r'$n= 10$') # plot the approximated density for the case n=10\n",
    "pd.Series(weight_MST_30).plot.kde( label = r'$n= 10$') # plot the approximated density for the case n=30\n",
    "pd.Series(weight_MST_50).plot.kde( label = r'$n= 50$') # plot the approximated density for the case n = 50\n",
    "pd.Series(weight_MST_100).plot.kde( label = r'$n= 100$') # plot the approximated density for the case n = 100\n",
    "plt.xlabel('weight')\n",
    "plt.axvline(2, ls = '--', c='black') # this is a black dashed line at x=2.\n",
    "plt.title('Distribution of weight: means cannot exceed x= 2')\n",
    "plt.legend()\n",
    "plt.show()"
   ]
  },
  {
   "cell_type": "code",
   "execution_count": null,
   "metadata": {},
   "outputs": [],
   "source": []
  },
  {
   "cell_type": "code",
   "execution_count": null,
   "metadata": {},
   "outputs": [],
   "source": []
  },
  {
   "cell_type": "code",
   "execution_count": null,
   "metadata": {},
   "outputs": [],
   "source": []
  },
  {
   "cell_type": "markdown",
   "metadata": {},
   "source": [
    "#### __Distribution, mean and standard deviation of the diameter $\\mathrm{diam}(\\{U_e \\})$ of a MST of $G$.__\n",
    "\n",
    "The goal of this part is to show that both the mean and the variance of $\\mathrm{diam}(\\{U_e \\})$ are increasing function of $n$."
   ]
  },
  {
   "cell_type": "markdown",
   "metadata": {},
   "source": [
    "We __claim__ here that both the mean and the standard deviation of $\\mathrm{diam}(\\{U_e\\})$ increase with $n$."
   ]
  },
  {
   "cell_type": "markdown",
   "metadata": {},
   "source": [
    "In order to view our claim, we are going to plot the histogram of 200 samples of $\\mathrm{diam}(\\{U_e\\})$ that corresponds to $n= 10, 30, 50$ and $100$"
   ]
  },
  {
   "cell_type": "code",
   "execution_count": 18,
   "metadata": {},
   "outputs": [],
   "source": [
    "#Distribution of the diameter for n = 10, 50 and 100\n",
    "diameter_MST_10 = np.array([MST(10)[1] for i in range(200)])# sample 100 diameter for n = 10\n",
    "diameter_MST_30 = np.array([MST(30)[1] for i in range(200)])# sample 100 diameter for n = 30\n",
    "diameter_MST_50 = np.array([MST(50)[1] for i in range(200)])# sample 100 diameter for n = 50\n",
    "diameter_MST_100 = np.array([MST(100)[1] for i in range(200)])# sample 100 diameter for n = 100"
   ]
  },
  {
   "cell_type": "code",
   "execution_count": 19,
   "metadata": {},
   "outputs": [
    {
     "data": {
      "image/png": "[encoded data removed]",
      "text/plain": [
       "<Figure size 432x288 with 1 Axes>"
      ]
     },
     "metadata": {
      "needs_background": "light"
     },
     "output_type": "display_data"
    }
   ],
   "source": [
    "#histogram\n",
    "plt.hist(diameter_MST_10, bins =10, label = 'n=10')# distribution for the case n = 10\n",
    "plt.hist(diameter_MST_30, bins = 10, label = 'n=30')# distribution for the case n = 30\n",
    "plt.hist(diameter_MST_50, bins = 10, label = 'n=50')# distribution for the case n = 50\n",
    "plt.hist(diameter_MST_100, bins = 10, label = 'n=100')# distribution for the case n = 100\n",
    "plt.title('Histograms')\n",
    "plt.legend()\n",
    "plt.show()"
   ]
  },
  {
   "cell_type": "markdown",
   "metadata": {},
   "source": [
    "The estimated density distriution below (like in the case of the weight) makes things more clear:"
   ]
  },
  {
   "cell_type": "code",
   "execution_count": 20,
   "metadata": {},
   "outputs": [
    {
     "data": {
      "image/png": "[encoded data removed]",
      "text/plain": [
       "<Figure size 432x288 with 1 Axes>"
      ]
     },
     "metadata": {
      "needs_background": "light"
     },
     "output_type": "display_data"
    }
   ],
   "source": [
    "pd.Series(diameter_MST_10).plot.kde( label = r'$n= 10$') # plot the approximated density for the case n=10\n",
    "pd.Series(diameter_MST_30).plot.kde( label = r'$n= 10$')# plot the approximated density for the case n=30\n",
    "pd.Series(diameter_MST_50).plot.kde( label = r'$n= 50$')# plot the approximated density for the case n=50\n",
    "pd.Series(diameter_MST_100).plot.kde( label = r'$n= 100$')# plot the approximated density for the case n=100\n",
    "plt.xlabel('diameter')\n",
    "plt.legend()\n",
    "plt.show()"
   ]
  },
  {
   "cell_type": "markdown",
   "metadata": {},
   "source": [
    "Therefore, both the mean and the standard deviation of $\\mathrm{diam}(\\{U_e\\})$ are increasing function of $n$."
   ]
  },
  {
   "cell_type": "code",
   "execution_count": null,
   "metadata": {},
   "outputs": [],
   "source": []
  },
  {
   "cell_type": "markdown",
   "metadata": {},
   "source": [
    "# __(b) MST with small noise on the labels.__\n",
    "\n",
    "Let $\\epsilon$ be a small positive number and let $(U_e)_{e\\in E(G)}$ be iid $\\mathrm{unif}[0,1]$ (like in part __(a)__). \n",
    "\n",
    "Given a small and positive $\\epsilon$, let $\\tilde{U}_e$ to be equal to $U_e$ with probability $1-\\epsilon$ and an independent $\\mathrm{unif}[0,1]$ with probability $\\epsilon$."
   ]
  },
  {
   "cell_type": "markdown",
   "metadata": {},
   "source": [
    "For a fixed $\\epsilon$, we are interested in the correlations $\\mathrm{Corr}(W(\\{U_e\\}), W(\\{\\tilde{U}_e\\}))$ and $\\mathrm{Corr}(\\mathrm{diam}(\\{U_e\\}), \\mathrm{diam}(\\{\\tilde{U}_e\\}))$."
   ]
  },
  {
   "cell_type": "markdown",
   "metadata": {},
   "source": [
    "Let us create function __MST_tilde__ having as input a natural number $n$ and a positive number $\\epsilon$. Our function outputs a list of (weight, diameter) that corresponds to the labels $U_e$ and $\\tilde{U}_e$ in the following way:\n",
    "\n",
    "1. Assign each edge of $G$ a $\\mathrm{Unif}[0,1]$ label,\n",
    "2. Create an empty graph $G_{tilde}$, and for each edge $e$ of $G$: take $test\\in [0,1]$ uniformly randomly. If $test \\leq 1-\\epsilon$, then we $G_{tilde}$ the edge $e$ with the same weight; if not, we add $G_{tilde}$ the edge $e$ with another uniform random weight.\n",
    "3. Take the edges of a MST of $G$ and $G_tilde$ and create the corresponding MST ($T$ and $T_{tilde}$ respectively), use the function ```tree.minimum_spanning_edges```.\n",
    "4. Return the total weight and the diameter of both $T$ and $T_{tilde}$."
   ]
  },
  {
   "cell_type": "code",
   "execution_count": 21,
   "metadata": {},
   "outputs": [],
   "source": [
    "def MST_tilde(n, epsilon=0.1):\n",
    "    G = nx.Graph()\n",
    "    G_tilde = nx.Graph()\n",
    "    T = nx.Graph()\n",
    "    T_tilde = nx.Graph()\n",
    "    edges = list(nx.complete_graph(n).edges() ) # possible edges\n",
    "   \n",
    "    # add edges with uniform weight to G.\n",
    "    G.add_weighted_edges_from([(e[0], e[1], np.random.uniform(0,1)) for e in edges]) \n",
    "    \n",
    "    \n",
    "    # add weighted edge to G_tilde.\n",
    "    for e in G.edges():\n",
    "        weight_e = G.get_edge_data(e[0],e[1])['weight']\n",
    "        test = np.random.uniform(0,1)\n",
    "        if test <= 1-epsilon:\n",
    "            G_tilde.add_weighted_edges_from([(e[0], e[1],  weight_e)])  # the weight is preserved here\n",
    "        if test > 1-epsilon:\n",
    "            G_tilde.add_weighted_edges_from([(e[0], e[1],  np.random.uniform(0,1))])  # the weight changed here\n",
    "            \n",
    "   \n",
    "\n",
    "\n",
    "   # take the MST for G, as well as its weight and its diameter\n",
    "  \n",
    "    edge_MST = list(tree.minimum_spanning_edges(G, algorithm='kruskal', weight='weight'))\n",
    "    \n",
    "    T.add_weighted_edges_from([(edge_MST[i][0], edge_MST[i][1], edge_MST[i][2]['weight']) for i in range(len(edge_MST))])\n",
    "    \n",
    "    weight = sum([edge_MST[i][2]['weight'] for i in range(len(edge_MST))])\n",
    "    \n",
    "    diameter = nx.diameter(T)\n",
    " \n",
    "\n",
    "\n",
    "\n",
    "    # take MST for G_tilde, as well as its weight and diameter (Edges of G_tilde are generated from the edges of G)\n",
    "    \n",
    "    edge_MST_tilde = list(tree.minimum_spanning_edges(G_tilde, algorithm='kruskal', weight='weight', keys=True, data=True, ignore_nan=False))\n",
    "    \n",
    "    T_tilde.add_weighted_edges_from([(edge_MST_tilde[i][0], edge_MST_tilde[i][1], edge_MST_tilde[i][2]['weight']) for i in range(len(edge_MST_tilde))])\n",
    "    \n",
    "    weight_tilde = sum([edge_MST_tilde[i][2]['weight'] for i in range(len(edge_MST_tilde))])\n",
    "    \n",
    "    diameter_tilde = nx.diameter(T_tilde)\n",
    "    \n",
    "    \n",
    "    return [(weight, diameter), (weight_tilde, diameter_tilde)]\n",
    "   "
   ]
  },
  {
   "cell_type": "code",
   "execution_count": 22,
   "metadata": {},
   "outputs": [
    {
     "data": {
      "text/plain": [
       "[(0.4285685874614462, 4), (0.7290856762589107, 4)]"
      ]
     },
     "execution_count": 22,
     "metadata": {},
     "output_type": "execute_result"
    }
   ],
   "source": [
    "MST_tilde(5,0.1)"
   ]
  },
  {
   "cell_type": "markdown",
   "metadata": {},
   "source": [
    "#### We fix $\\epsilon = 0.1$ and we are going to take 100 independent trials of outputs of the function MST_tilde for the case $n=10$, $20$ and $50$."
   ]
  },
  {
   "cell_type": "code",
   "execution_count": 25,
   "metadata": {},
   "outputs": [],
   "source": [
    "Data_list10 = [MST_tilde(10,0.1) for i in range(100)]\n",
    "Data_list20 = [MST_tilde(20,0.1) for i in range(100)]\n",
    "Data_list50 = [MST_tilde(50,0.1) for i in range(100)]"
   ]
  },
  {
   "cell_type": "markdown",
   "metadata": {},
   "source": [
    "#### __Correlation of the weight:__ \n",
    "Let us take the weight from the Data_list above and compute the correlation of the weight using the function ```corrcoef```."
   ]
  },
  {
   "cell_type": "code",
   "execution_count": 26,
   "metadata": {},
   "outputs": [],
   "source": [
    "#n=10\n",
    "weight_10 = np.array([Data_list10[i][0][0] for i in range(len(Data_list10))])\n",
    "weight_10_tilde = np.array([Data_list10[i][1][0] for i in range(len(Data_list10))])\n",
    "\n",
    "#n=20\n",
    "weight_20 = np.array([Data_list20[i][0][0] for i in range(len(Data_list20))])\n",
    "weight_20_tilde = np.array([Data_list20[i][1][0] for i in range(len(Data_list20))])\n",
    "\n",
    "#n=50\n",
    "weight_50 = np.array([Data_list50[i][0][0] for i in range(len(Data_list50))])\n",
    "weight_50_tilde = np.array([Data_list50[i][1][0] for i in range(len(Data_list50))])"
   ]
  },
  {
   "cell_type": "code",
   "execution_count": 27,
   "metadata": {},
   "outputs": [
    {
     "data": {
      "text/plain": [
       "[0.85443644387428, 0.8457958649200629, 0.8733916117709741]"
      ]
     },
     "execution_count": 27,
     "metadata": {},
     "output_type": "execute_result"
    }
   ],
   "source": [
    "[np.corrcoef(weight_10 ,weight_10_tilde)[0][1], np.corrcoef(weight_20 ,weight_20_tilde)[0][1], np.corrcoef(weight_50 ,weight_50_tilde)[0][1] ] # correlations of weight"
   ]
  },
  {
   "cell_type": "markdown",
   "metadata": {},
   "source": [
    "### Result: the correlation of the weight remains close to 1 as $n$ goes to the infinity.\n",
    "In order to visualize the dependence, let us scattrplot $W(\\{U_e\\})$ against $W(\\{\\tilde{U}_e\\})$."
   ]
  },
  {
   "cell_type": "code",
   "execution_count": 28,
   "metadata": {},
   "outputs": [
    {
     "data": {
      "image/png": "[encoded data removed]",
      "text/plain": [
       "<Figure size 432x288 with 3 Axes>"
      ]
     },
     "metadata": {
      "needs_background": "light"
     },
     "output_type": "display_data"
    }
   ],
   "source": [
    "fig, axes = plt.subplots(ncols=3, nrows=1) # construct subplots\n",
    "ax1, ax2, ax3= axes.ravel() # name of each subplot\n",
    "ax1.scatter(weight_10, weight_10_tilde, c= 'blue', label = r'$n=10$') # n= 10\n",
    "ax2.scatter(weight_20, weight_20_tilde, c= 'red', label = r'$n=20$')# n= 20\n",
    "ax3.scatter(weight_50, weight_50_tilde, c= 'purple', label = r'$n=50$')# n= 50\n",
    "ax1.legend()\n",
    "ax2.legend()\n",
    "ax3.legend()\n",
    "plt.show()"
   ]
  },
  {
   "cell_type": "code",
   "execution_count": null,
   "metadata": {},
   "outputs": [],
   "source": []
  },
  {
   "cell_type": "markdown",
   "metadata": {},
   "source": [
    "#### __Correlation of the diameter__\n",
    "Like in the case of the weight, let us take the diameter from the Data_list above and compute the correlation using the function ```corrcoef```."
   ]
  },
  {
   "cell_type": "code",
   "execution_count": 29,
   "metadata": {},
   "outputs": [],
   "source": [
    "#n=10\n",
    "diam_10 = np.array([Data_list10[i][0][1] for i in range(len(Data_list10))])\n",
    "diam_10_tilde = np.array([Data_list10[i][1][1] for i in range(len(Data_list10))])\n",
    "\n",
    "#n=20\n",
    "diam_20 = np.array([Data_list20[i][0][1] for i in range(len(Data_list20))])\n",
    "diam_20_tilde = np.array([Data_list20[i][1][1] for i in range(len(Data_list20))])\n",
    "\n",
    "#n=50\n",
    "diam_50 = np.array([Data_list50[i][0][1] for i in range(len(Data_list50))])\n",
    "diam_50_tilde = np.array([Data_list50[i][1][1] for i in range(len(Data_list50))])"
   ]
  },
  {
   "cell_type": "code",
   "execution_count": 30,
   "metadata": {},
   "outputs": [
    {
     "data": {
      "text/plain": [
       "[0.4596567840750998, 0.4678396537118566, -0.04473571336811766]"
      ]
     },
     "execution_count": 30,
     "metadata": {},
     "output_type": "execute_result"
    }
   ],
   "source": [
    "[np.corrcoef(diam_10 ,diam_10_tilde)[0][1], np.corrcoef(diam_20 ,diam_20_tilde)[0][1], np.corrcoef(diam_50 ,weight_50_tilde)[0][1] ] # correlation of the diameters"
   ]
  },
  {
   "cell_type": "markdown",
   "metadata": {},
   "source": [
    "### Result: the correlation of the diameters gets close to zero when $n$ goes to the infinity.\n",
    "\n",
    "In order to visualize our result, let us scattreplot $\\mathrm{diam}(\\{U_e\\})$ against $\\mathrm{diam}(\\{\\tilde{U}_e\\}).$"
   ]
  },
  {
   "cell_type": "code",
   "execution_count": 32,
   "metadata": {},
   "outputs": [
    {
     "data": {
      "image/png": "[encoded data removed]",
      "text/plain": [
       "<Figure size 432x288 with 3 Axes>"
      ]
     },
     "metadata": {
      "needs_background": "light"
     },
     "output_type": "display_data"
    }
   ],
   "source": [
    "fig, axes = plt.subplots(ncols=3, nrows=1) # create subplots\n",
    "ax1, ax2, ax3= axes.ravel()\n",
    "\n",
    "# plot for n=10, 30 and 50\n",
    "ax1.scatter(diam_10, diam_10_tilde, c= 'blue', label = r'$n=10$')\n",
    "ax2.scatter(diam_20, diam_20_tilde, c= 'red', label = r'$n=20$')\n",
    "ax3.scatter(diam_50, diam_50_tilde, c= 'purple', label = r'$n=50$')\n",
    "ax1.legend()\n",
    "ax2.legend()\n",
    "ax3.legend()\n",
    "plt.show()"
   ]
  },
  {
   "cell_type": "code",
   "execution_count": null,
   "metadata": {},
   "outputs": [],
   "source": []
  }
 ],
 "metadata": {
  "kernelspec": {
   "display_name": "Python 3 (ipykernel)",
   "language": "python",
   "name": "python3"
  },
  "language_info": {
   "codemirror_mode": {
    "name": "ipython",
    "version": 3
   },
   "file_extension": ".py",
   "mimetype": "text/x-python",
   "name": "python",
   "nbconvert_exporter": "python",
   "pygments_lexer": "ipython3",
   "version": "3.11.7"
  }
 },
 "nbformat": 4,
 "nbformat_minor": 4
}
